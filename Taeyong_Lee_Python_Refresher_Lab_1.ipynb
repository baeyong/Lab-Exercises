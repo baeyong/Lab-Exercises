{
  "nbformat": 4,
  "nbformat_minor": 0,
  "metadata": {
    "colab": {
      "provenance": [],
      "include_colab_link": true
    },
    "kernelspec": {
      "name": "python3",
      "display_name": "Python 3"
    },
    "language_info": {
      "name": "python"
    }
  },
  "cells": [
    {
      "cell_type": "markdown",
      "metadata": {
        "id": "view-in-github",
        "colab_type": "text"
      },
      "source": [
        "<a href=\"https://colab.research.google.com/github/baeyong/Lab-Exercises/blob/main/Taeyong_Lee_Python_Refresher_Lab_1.ipynb\" target=\"_parent\"><img src=\"https://colab.research.google.com/assets/colab-badge.svg\" alt=\"Open In Colab\"/></a>"
      ]
    },
    {
      "cell_type": "markdown",
      "source": [
        "**Python Refresher Exercises**\n",
        "\n",
        "Lab 1 -- Please submit your exercises as a link to the file in your github account. If you have a private repository, [please follow the instructions](https://docs.github.com/en/account-and-profile/setting-up-and-managing-your-personal-account-on-github/managing-access-to-your-personal-repositories/inviting-collaborators-to-a-personal-repository) to add a collaborator to the repository. You should add bingcode@binghamton.edu as the collaborator.\n",
        "\n",
        "Make sure that you link any resources you use in a comment or docstring!"
      ],
      "metadata": {
        "id": "up8np1Nm1W9S"
      }
    },
    {
      "cell_type": "markdown",
      "source": [
        "1. See the list below. Please write a program that will tell you what the longest word is in the list. Package your program inside of a function.  "
      ],
      "metadata": {
        "id": "94J_lgOp2MRS"
      }
    },
    {
      "cell_type": "code",
      "execution_count": null,
      "metadata": {
        "id": "qVCv4MW71TZk"
      },
      "outputs": [],
      "source": [
        "list = [\"apple\", \"chestnut\", \"gargoyle\", \"pandas\", \"sheep\", \"raptor\"]"
      ]
    },
    {
      "cell_type": "code",
      "source": [
        "def longest_word(list):\n",
        "  res = \"\"\n",
        "  for word in list:\n",
        "    if len(word) > len(res):\n",
        "      res = word\n",
        "  return res\n",
        "\n",
        "longest_word(list)"
      ],
      "metadata": {
        "colab": {
          "base_uri": "https://localhost:8080/",
          "height": 35
        },
        "id": "zaDHdXI7XVT-",
        "outputId": "7358d305-4d54-4915-d5c5-0bdfe71ca3b3"
      },
      "execution_count": 5,
      "outputs": [
        {
          "output_type": "execute_result",
          "data": {
            "text/plain": [
              "'chestnut'"
            ],
            "application/vnd.google.colaboratory.intrinsic+json": {
              "type": "string"
            }
          },
          "metadata": {},
          "execution_count": 5
        }
      ]
    },
    {
      "cell_type": "markdown",
      "source": [
        "2. Now that you have built the program above, in a new cell, edit your program: import a .txt file of a list of words and have your program randomly choose 7 words from the file to add to a list, and then have the program determine the longest word as you did above. "
      ],
      "metadata": {
        "id": "JQkv11AD6mtg"
      }
    },
    {
      "cell_type": "code",
      "source": [
        "import random\n",
        "sowpods = 'sowpods.txt'\n",
        "\n",
        "def word_generator():\n",
        "  filename = sowpods\n",
        "  f = open(filename, 'r', encoding='utf8')\n",
        "  words = f.readlines()\n",
        "  f.close()\n",
        "\n",
        "  return random.choice(words).strip()\n",
        "\n",
        "def longest_word2():\n",
        "  list = []\n",
        "  res = \"\"\n",
        "  while len(list) < 7:\n",
        "    list.append(word_generator())\n",
        "    if len(list[-1]) > len(res):\n",
        "      res = list[-1]\n",
        "  print(list )\n",
        "  return res\n",
        " \n",
        "longest_word2()"
      ],
      "metadata": {
        "colab": {
          "base_uri": "https://localhost:8080/",
          "height": 53
        },
        "id": "Hh6bsxKiXr9W",
        "outputId": "d7cef83d-2af0-42e3-9b78-0b37dc8d5e8f"
      },
      "execution_count": 6,
      "outputs": [
        {
          "output_type": "stream",
          "name": "stdout",
          "text": [
            "['TACHISTOSCOPES', 'YSHENDING', 'REPAPERING', 'UNSTRUNG', 'SABERED', 'RELIGIONISES', 'ROSEWATERS']\n"
          ]
        },
        {
          "output_type": "execute_result",
          "data": {
            "text/plain": [
              "'TACHISTOSCOPES'"
            ],
            "application/vnd.google.colaboratory.intrinsic+json": {
              "type": "string"
            }
          },
          "metadata": {},
          "execution_count": 6
        }
      ]
    },
    {
      "cell_type": "code",
      "source": [
        "from google.colab import drive\n",
        "drive.mount('/content/drive')"
      ],
      "metadata": {
        "id": "ZQm36iO1jetD"
      },
      "execution_count": null,
      "outputs": []
    },
    {
      "cell_type": "markdown",
      "source": [
        "3. Pretend that you're going to be leading a review session on dictionaries. Build a program that uses dictionaries and incorporates at least 4 built-in methods. [See full list on W3Schools](https://www.w3schools.com/python/python_ref_dictionary.asp) "
      ],
      "metadata": {
        "id": "ixo1erOp5U3b"
      }
    },
    {
      "cell_type": "code",
      "source": [
        "# Lets get a count of all the letters in a word\n",
        "word = \"lettuce\"\n",
        "d = {}\n",
        "for char in word:\n",
        "  d[char] = 1 + d.get(char,0)\n",
        "print(f\"The letter count is {d}\")\n",
        "# Let's take a look at the letters in the dictionary\n",
        "print(d.keys())\n",
        "# Let's take a look at all the values in the dictionary\n",
        "print(d.values())\n",
        "# Let's get rid of the key value pair 'l': 1\n",
        "print(d.pop('l'))\n",
        "# Finally, let's clear the dictionary to initialize it for another word\n",
        "d.clear()\n",
        "print(d)\n"
      ],
      "metadata": {
        "colab": {
          "base_uri": "https://localhost:8080/"
        },
        "id": "S60vetnsMyp0",
        "outputId": "248eb2b4-cbf0-4ac6-e41d-5dc264e6ecbb"
      },
      "execution_count": 14,
      "outputs": [
        {
          "output_type": "stream",
          "name": "stdout",
          "text": [
            "The letter count is {'l': 1, 'e': 2, 't': 2, 'u': 1, 'c': 1}\n",
            "dict_keys(['l', 'e', 't', 'u', 'c'])\n",
            "dict_values([1, 2, 2, 1, 1])\n",
            "1\n",
            "{}\n"
          ]
        }
      ]
    },
    {
      "cell_type": "markdown",
      "source": [
        "4. Using OOP, I want you to build one of the following things. As part of the excerise, please write out your brainstorming process in a comment or markdown cell:\n",
        "\n",
        "\n",
        "*   A system to manage a student's school record (would need a way to gather/store personal information, record grades, record GPA, etc.)\n",
        "*   A class that allows you to create your own flashcards & then allows you to review them (this would work best with language cards - like one word is in Spanish, one in English)\n",
        "*   A class (or series of classes) to correspond with a gameplay (for example, a fighter class, a bard class, a wizard class)\n",
        "\n"
      ],
      "metadata": {
        "id": "zSQ2TTKp63lt"
      }
    },
    {
      "cell_type": "markdown",
      "source": [
        "School Record:\n",
        "- Personal information (name, year)\n",
        "- Classes\n",
        "- Grades\n",
        "- GPA\n",
        "- Schedule building function\n",
        "- Display schedule"
      ],
      "metadata": {
        "id": "24eu0MJROo1g"
      }
    },
    {
      "cell_type": "code",
      "source": [
        "class Student():\n",
        "  def __init__(self, first_name, last_name, year):\n",
        "    self.first_name = first_name\n",
        "    self.last_name = last_name\n",
        "    self.year = year\n",
        "    self.courses = []\n",
        "    self.GPA = 0\n",
        "    self.n = 0 \n",
        "\n",
        "  def display_info(self):\n",
        "    print(f\"The student's name is {self.first_name} {self.last_name} and they are in their {self.year} year.\")\n",
        "\n",
        "  def add_class(self, course):\n",
        "    self.courses.append(course)\n",
        "  \n",
        "  def show_courses(self):\n",
        "    print(self.courses)\n",
        "\n",
        "  def update_GPA(self, grade):\n",
        "    self.n += 1\n",
        "    self.GPA += grade\n",
        "    self.GPA = self.GPA / self.n\n",
        "    print(f\"Their GPA is {self.GPA}\")\n",
        "\n",
        "Ricky = Student('Ricky', 'Zou', 4)\n",
        "Ricky.add_class(\"Math 457\")\n",
        "Ricky.add_class(\"Math 454\")\n",
        "Ricky.update_GPA(4)\n",
        "Ricky.update_GPA(3)\n",
        "Ricky.show_courses()\n",
        "Ricky.display_info()\n",
        "  \n",
        "  \n"
      ],
      "metadata": {
        "colab": {
          "base_uri": "https://localhost:8080/"
        },
        "id": "p6vCK1s6OgDd",
        "outputId": "f14876da-6d4c-4485-aff6-8f68febe83bf"
      },
      "execution_count": 22,
      "outputs": [
        {
          "output_type": "stream",
          "name": "stdout",
          "text": [
            "Their GPA is 4.0\n",
            "Their GPA is 3.5\n",
            "['Math 457', 'Math 454']\n",
            "The student's name is Ricky Zou and they are in their 4 year.\n"
          ]
        }
      ]
    },
    {
      "cell_type": "markdown",
      "source": [
        "5. Finalize your Hangman program and submit it. Include any necessary comments and explain what you had \"refreshed\" by building it in class. If appropriate, use functions or OOP to package the pieces of your code. "
      ],
      "metadata": {
        "id": "O1qRb8-59tMZ"
      }
    },
    {
      "cell_type": "code",
      "source": [
        "import random\n",
        "\n",
        "sowpods = \"sowpods.txt\"as\n",
        "\n",
        "\n",
        "def word_generator():\n",
        "    filename = sowpods\n",
        "    f = open(filename, \"r\", encoding = \"utf8\")\n",
        "    words = f.readlines()\n",
        "    f.close()\n",
        "\n",
        "    return random.choice(words).strip()\n",
        "\n",
        "valid = \"qwertyuiopasdfghjklzxcvbnm\"\n",
        "\n",
        "def hangman():\n",
        "\n",
        "    word = word_generator().lower()\n",
        "\n",
        "    lives = len(word)\n",
        "\n",
        "    guessed = set()\n",
        "    curr = [\"_\" for x in range(len(word))]\n",
        "\n",
        "    while lives and (set(word) != set(curr)):\n",
        "        guess = input(\"Guess a letter: \").lower()\n",
        "\n",
        "        if guess in word:\n",
        "            guessed.add(guess)\n",
        "            for i in range(len(word)):\n",
        "                if word[i] == guess:\n",
        "                    curr[i] = guess\n",
        "            print(curr)\n",
        "\n",
        "        elif guess in guessed:\n",
        "            print(\"You have already guessed this letter!\")\n",
        "\n",
        "        elif guess not in valid:\n",
        "            print(\"This is not a valid guess!\")\n",
        "\n",
        "        else:\n",
        "            guessed.add(guess)\n",
        "            lives -= 1\n",
        "            print(f\"You have {lives} lives!\")\n",
        "            print(curr)\n",
        "        \n",
        "        print(\"You have guessed these letters\", guessed)\n",
        "\n",
        "    if not lives:\n",
        "        print(f\"You suck. The word was {word}\")\n",
        "\n",
        "    elif set(curr) == set(word):\n",
        "        print(\"Wow! You don't suck.\")\n",
        "\n",
        "hangman()\n",
        "\n"
      ],
      "metadata": {
        "colab": {
          "base_uri": "https://localhost:8080/",
          "height": 693
        },
        "id": "APCnx0H_dBv5",
        "outputId": "ecafc266-5cc9-4d19-d780-502db052ef9f"
      },
      "execution_count": 23,
      "outputs": [
        {
          "output_type": "stream",
          "name": "stdout",
          "text": [
            "Guess a letter: a\n",
            "You have 8 lives!\n",
            "['_', '_', '_', '_', '_', '_', '_', '_', '_']\n",
            "You have guessed these letters {'a'}\n",
            "Guess a letter: b\n",
            "You have 7 lives!\n",
            "['_', '_', '_', '_', '_', '_', '_', '_', '_']\n",
            "You have guessed these letters {'b', 'a'}\n",
            "Guess a letter: d\n",
            "You have 6 lives!\n",
            "['_', '_', '_', '_', '_', '_', '_', '_', '_']\n",
            "You have guessed these letters {'d', 'b', 'a'}\n",
            "Guess a letter: s\n",
            "['_', '_', '_', '_', '_', '_', '_', '_', 's']\n",
            "You have guessed these letters {'d', 'b', 's', 'a'}\n",
            "Guess a letter: \n",
            "['_', '_', '_', '_', '_', '_', '_', '_', 's']\n",
            "You have guessed these letters {'', 's', 'a', 'd', 'b'}\n"
          ]
        },
        {
          "output_type": "error",
          "ename": "KeyboardInterrupt",
          "evalue": "ignored",
          "traceback": [
            "\u001b[0;31m---------------------------------------------------------------------------\u001b[0m",
            "\u001b[0;31mKeyboardInterrupt\u001b[0m                         Traceback (most recent call last)",
            "\u001b[0;32m<ipython-input-23-f499ea6e3c3a>\u001b[0m in \u001b[0;36m<module>\u001b[0;34m\u001b[0m\n\u001b[1;32m     52\u001b[0m         \u001b[0mprint\u001b[0m\u001b[0;34m(\u001b[0m\u001b[0;34m\"Wow! You don't suck.\"\u001b[0m\u001b[0;34m)\u001b[0m\u001b[0;34m\u001b[0m\u001b[0;34m\u001b[0m\u001b[0m\n\u001b[1;32m     53\u001b[0m \u001b[0;34m\u001b[0m\u001b[0m\n\u001b[0;32m---> 54\u001b[0;31m \u001b[0mhangman\u001b[0m\u001b[0;34m(\u001b[0m\u001b[0;34m)\u001b[0m\u001b[0;34m\u001b[0m\u001b[0;34m\u001b[0m\u001b[0m\n\u001b[0m\u001b[1;32m     55\u001b[0m \u001b[0;34m\u001b[0m\u001b[0m\n",
            "\u001b[0;32m<ipython-input-23-f499ea6e3c3a>\u001b[0m in \u001b[0;36mhangman\u001b[0;34m()\u001b[0m\n\u001b[1;32m     23\u001b[0m \u001b[0;34m\u001b[0m\u001b[0m\n\u001b[1;32m     24\u001b[0m     \u001b[0;32mwhile\u001b[0m \u001b[0mlives\u001b[0m \u001b[0;32mand\u001b[0m \u001b[0;34m(\u001b[0m\u001b[0mset\u001b[0m\u001b[0;34m(\u001b[0m\u001b[0mword\u001b[0m\u001b[0;34m)\u001b[0m \u001b[0;34m!=\u001b[0m \u001b[0mset\u001b[0m\u001b[0;34m(\u001b[0m\u001b[0mcurr\u001b[0m\u001b[0;34m)\u001b[0m\u001b[0;34m)\u001b[0m\u001b[0;34m:\u001b[0m\u001b[0;34m\u001b[0m\u001b[0;34m\u001b[0m\u001b[0m\n\u001b[0;32m---> 25\u001b[0;31m         \u001b[0mguess\u001b[0m \u001b[0;34m=\u001b[0m \u001b[0minput\u001b[0m\u001b[0;34m(\u001b[0m\u001b[0;34m\"Guess a letter: \"\u001b[0m\u001b[0;34m)\u001b[0m\u001b[0;34m.\u001b[0m\u001b[0mlower\u001b[0m\u001b[0;34m(\u001b[0m\u001b[0;34m)\u001b[0m\u001b[0;34m\u001b[0m\u001b[0;34m\u001b[0m\u001b[0m\n\u001b[0m\u001b[1;32m     26\u001b[0m \u001b[0;34m\u001b[0m\u001b[0m\n\u001b[1;32m     27\u001b[0m         \u001b[0;32mif\u001b[0m \u001b[0mguess\u001b[0m \u001b[0;32min\u001b[0m \u001b[0mword\u001b[0m\u001b[0;34m:\u001b[0m\u001b[0;34m\u001b[0m\u001b[0;34m\u001b[0m\u001b[0m\n",
            "\u001b[0;32m/usr/local/lib/python3.8/dist-packages/ipykernel/kernelbase.py\u001b[0m in \u001b[0;36mraw_input\u001b[0;34m(self, prompt)\u001b[0m\n\u001b[1;32m    858\u001b[0m                 \u001b[0;34m\"raw_input was called, but this frontend does not support input requests.\"\u001b[0m\u001b[0;34m\u001b[0m\u001b[0;34m\u001b[0m\u001b[0m\n\u001b[1;32m    859\u001b[0m             )\n\u001b[0;32m--> 860\u001b[0;31m         return self._input_request(str(prompt),\n\u001b[0m\u001b[1;32m    861\u001b[0m             \u001b[0mself\u001b[0m\u001b[0;34m.\u001b[0m\u001b[0m_parent_ident\u001b[0m\u001b[0;34m,\u001b[0m\u001b[0;34m\u001b[0m\u001b[0;34m\u001b[0m\u001b[0m\n\u001b[1;32m    862\u001b[0m             \u001b[0mself\u001b[0m\u001b[0;34m.\u001b[0m\u001b[0m_parent_header\u001b[0m\u001b[0;34m,\u001b[0m\u001b[0;34m\u001b[0m\u001b[0;34m\u001b[0m\u001b[0m\n",
            "\u001b[0;32m/usr/local/lib/python3.8/dist-packages/ipykernel/kernelbase.py\u001b[0m in \u001b[0;36m_input_request\u001b[0;34m(self, prompt, ident, parent, password)\u001b[0m\n\u001b[1;32m    902\u001b[0m             \u001b[0;32mexcept\u001b[0m \u001b[0mKeyboardInterrupt\u001b[0m\u001b[0;34m:\u001b[0m\u001b[0;34m\u001b[0m\u001b[0;34m\u001b[0m\u001b[0m\n\u001b[1;32m    903\u001b[0m                 \u001b[0;31m# re-raise KeyboardInterrupt, to truncate traceback\u001b[0m\u001b[0;34m\u001b[0m\u001b[0;34m\u001b[0m\u001b[0;34m\u001b[0m\u001b[0m\n\u001b[0;32m--> 904\u001b[0;31m                 \u001b[0;32mraise\u001b[0m \u001b[0mKeyboardInterrupt\u001b[0m\u001b[0;34m(\u001b[0m\u001b[0;34m\"Interrupted by user\"\u001b[0m\u001b[0;34m)\u001b[0m \u001b[0;32mfrom\u001b[0m \u001b[0;32mNone\u001b[0m\u001b[0;34m\u001b[0m\u001b[0;34m\u001b[0m\u001b[0m\n\u001b[0m\u001b[1;32m    905\u001b[0m             \u001b[0;32mexcept\u001b[0m \u001b[0mException\u001b[0m \u001b[0;32mas\u001b[0m \u001b[0me\u001b[0m\u001b[0;34m:\u001b[0m\u001b[0;34m\u001b[0m\u001b[0;34m\u001b[0m\u001b[0m\n\u001b[1;32m    906\u001b[0m                 \u001b[0mself\u001b[0m\u001b[0;34m.\u001b[0m\u001b[0mlog\u001b[0m\u001b[0;34m.\u001b[0m\u001b[0mwarning\u001b[0m\u001b[0;34m(\u001b[0m\u001b[0;34m\"Invalid Message:\"\u001b[0m\u001b[0;34m,\u001b[0m \u001b[0mexc_info\u001b[0m\u001b[0;34m=\u001b[0m\u001b[0;32mTrue\u001b[0m\u001b[0;34m)\u001b[0m\u001b[0;34m\u001b[0m\u001b[0;34m\u001b[0m\u001b[0m\n",
            "\u001b[0;31mKeyboardInterrupt\u001b[0m: Interrupted by user"
          ]
        }
      ]
    }
  ]
}